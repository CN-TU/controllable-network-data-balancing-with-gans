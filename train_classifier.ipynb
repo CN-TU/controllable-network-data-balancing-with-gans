{
 "cells": [
  {
   "cell_type": "markdown",
   "metadata": {
    "id": "inA7sCOffNuc"
   },
   "source": [
    "# Train IDS classifier\n",
    "Notebook for documentation of classifier training outputs (in addition to saved training logs). \n",
    "\n",
    "The classifier is used for evaluating the generated flows by the GAN."
   ]
  },
  {
   "cell_type": "code",
   "execution_count": 1,
   "metadata": {},
   "outputs": [
    {
     "name": "stdout",
     "output_type": "stream",
     "text": [
      "Args: Namespace(n_estimators=100, save_dir='./models/classifier', seed=0)\n",
      "Loading dataset...\n",
      "\n",
      "Making Classifier...\n",
      "\n",
      "Starting training...\n",
      "[Parallel(n_jobs=-1)]: Using backend ThreadingBackend with 4 concurrent workers.\n",
      "building tree 1 of 100\n",
      "building tree 2 of 100\n",
      "building tree 3 of 100\n",
      "building tree 4 of 100\n",
      "building tree 5 of 100\n",
      "building tree 6 of 100\n",
      "building tree 7 of 100\n",
      "building tree 8 of 100\n",
      "building tree 9 of 100\n",
      "building tree 10 of 100\n",
      "building tree 11 of 100\n",
      "building tree 12 of 100\n",
      "building tree 13 of 100\n",
      "building tree 14 of 100\n",
      "building tree 15 of 100\n",
      "building tree 16 of 100\n",
      "building tree 17 of 100\n",
      "building tree 18 of 100\n",
      "building tree 19 of 100\n",
      "building tree 20 of 100\n",
      "building tree 21 of 100\n",
      "building tree 22 of 100\n",
      "building tree 23 of 100\n",
      "building tree 24 of 100\n",
      "building tree 25 of 100\n",
      "building tree 26 of 100\n",
      "building tree 27 of 100\n",
      "building tree 28 of 100\n",
      "building tree 29 of 100\n",
      "building tree 30 of 100\n",
      "building tree 31 of 100\n",
      "building tree 32 of 100\n",
      "building tree 33 of 100\n",
      "building tree 34 of 100\n",
      "building tree 35 of 100\n",
      "building tree 36 of 100\n",
      "building tree 37 of 100\n",
      "[Parallel(n_jobs=-1)]: Done  33 tasks      | elapsed:  4.9min\n",
      "building tree 38 of 100\n",
      "building tree 39 of 100\n",
      "building tree 40 of 100\n",
      "building tree 41 of 100\n",
      "building tree 42 of 100\n",
      "building tree 43 of 100\n",
      "building tree 44 of 100\n",
      "building tree 45 of 100\n",
      "building tree 46 of 100\n",
      "building tree 47 of 100\n",
      "building tree 48 of 100\n",
      "building tree 49 of 100\n",
      "building tree 50 of 100\n",
      "building tree 51 of 100\n",
      "building tree 52 of 100\n",
      "building tree 53 of 100\n",
      "building tree 54 of 100\n",
      "building tree 55 of 100\n",
      "building tree 56 of 100\n",
      "building tree 57 of 100\n",
      "building tree 58 of 100\n",
      "building tree 59 of 100\n",
      "building tree 60 of 100\n",
      "building tree 61 of 100\n",
      "building tree 62 of 100\n",
      "building tree 63 of 100\n",
      "building tree 64 of 100\n",
      "building tree 65 of 100\n",
      "building tree 66 of 100\n",
      "building tree 67 of 100\n",
      "building tree 68 of 100\n",
      "building tree 69 of 100\n",
      "building tree 70 of 100\n",
      "building tree 71 of 100\n",
      "building tree 72 of 100\n",
      "building tree 73 of 100\n",
      "building tree 74 of 100\n",
      "building tree 75 of 100\n",
      "building tree 76 of 100\n",
      "building tree 77 of 100\n",
      "building tree 78 of 100\n",
      "building tree 79 of 100\n",
      "building tree 80 of 100\n",
      "building tree 81 of 100\n",
      "building tree 82 of 100\n",
      "building tree 83 of 100\n",
      "building tree 84 of 100\n",
      "building tree 85 of 100\n",
      "building tree 86 of 100\n",
      "building tree 87 of 100\n",
      "building tree 88 of 100\n",
      "building tree 89 of 100\n",
      "building tree 90 of 100\n",
      "building tree 91 of 100\n",
      "building tree 92 of 100\n",
      "building tree 93 of 100\n",
      "building tree 94 of 100\n",
      "building tree 95 of 100\n",
      "building tree 96 of 100\n",
      "building tree 97 of 100\n",
      "building tree 98 of 100\n",
      "building tree 99 of 100\n",
      "building tree 100 of 100\n",
      "[Parallel(n_jobs=-1)]: Done 100 out of 100 | elapsed: 14.2min finished\n",
      "\n",
      "Saving classifier to models/classifier/23-04-2021_11h56m\n",
      "\n",
      "Evaluating...\n",
      "\n",
      "--------------- Test statistics ---------------\n",
      "[Parallel(n_jobs=4)]: Using backend ThreadingBackend with 4 concurrent workers.\n",
      "[Parallel(n_jobs=4)]: Done  33 tasks      | elapsed:    0.3s\n",
      "[Parallel(n_jobs=4)]: Done 100 out of 100 | elapsed:    0.9s finished\n",
      "/Users/thomas/anaconda3/lib/python3.7/site-packages/sklearn/metrics/_classification.py:1221: UndefinedMetricWarning: Precision and F-score are ill-defined and being set to 0.0 in labels with no predicted samples. Use `zero_division` parameter to control this behavior.\n",
      "  _warn_prf(average, modifier, msg_start, len(result))\n",
      "                            precision    recall  f1-score   support\n",
      "\n",
      "                       Bot       0.97      0.98      0.97        98\n",
      "                      DDoS       1.00      1.00      1.00      6401\n",
      "             DoS GoldenEye       1.00      1.00      1.00       515\n",
      "                  DoS Hulk       1.00      1.00      1.00     11506\n",
      "          DoS Slowhttptest       0.99      0.99      0.99       275\n",
      "             DoS slowloris       1.00      0.99      0.99       290\n",
      "               FTP-Patator       1.00      1.00      1.00       397\n",
      "              Infiltration       1.00      1.00      1.00         2\n",
      "                  PortScan       1.00      1.00      1.00      7940\n",
      "               SSH-Patator       1.00      1.00      1.00       295\n",
      "  Web Attack  Brute Force       0.92      0.87      0.89        75\n",
      "Web Attack  Sql Injection       0.00      0.00      0.00         1\n",
      "          Web Attack  XSS       0.71      0.73      0.72        33\n",
      "                   zBENIGN       1.00      1.00      1.00    113566\n",
      "\n",
      "                  accuracy                           1.00    141394\n",
      "                 macro avg       0.90      0.90      0.90    141394\n",
      "              weighted avg       1.00      1.00      1.00    141394\n",
      "\n",
      "/Users/thomas/anaconda3/lib/python3.7/site-packages/matplotlib/backends/backend_agg.py:214: RuntimeWarning: Glyph 150 missing from current font.\n",
      "  font.set_text(s, 0.0, flags=flags)\n",
      "/Users/thomas/anaconda3/lib/python3.7/site-packages/matplotlib/backends/backend_agg.py:183: RuntimeWarning: Glyph 150 missing from current font.\n",
      "  font.set_text(s, 0, flags=flags)\n",
      "Figure(640x480)\n",
      "Figure(640x480)\n",
      "\n",
      "--------------- Feature ranking ---------------\n",
      "                     Feature  Importance score\n",
      "Rank                                          \n",
      "1     Bwd Packet Length Mean            0.0510\n",
      "2          Packet Length Std            0.0501\n",
      "3      Bwd Packet Length Std            0.0501\n",
      "4        Average Packet Size            0.0470\n",
      "5       Avg Bwd Segment Size            0.0434\n",
      "...                      ...               ...\n",
      "75        Bwd Avg Bytes/Bulk            0.0000\n",
      "76         Fwd Avg Bulk Rate            0.0000\n",
      "77      Fwd Avg Packets/Bulk            0.0000\n",
      "78             Bwd URG Flags            0.0000\n",
      "79        Fwd Avg Bytes/Bulk            0.0000\n",
      "\n",
      "[79 rows x 2 columns]\n"
     ]
    }
   ],
   "source": [
    "! python3 train_classifier.py"
   ]
  },
  {
   "cell_type": "markdown",
   "metadata": {},
   "source": [
    "### Feed unscaled testing data"
   ]
  },
  {
   "cell_type": "code",
   "execution_count": 21,
   "metadata": {},
   "outputs": [],
   "source": [
    "import joblib \n",
    "from cic_ids_17_dataset import CIC17Dataset\n",
    "from scikitplot.metrics import plot_confusion_matrix\n",
    "\n",
    "data_path = \"./data/cic-ids-2017_splits/seed_0/\"\n",
    "test_dataset = CIC17Dataset(data_path + \"test_dataset_scaled.pt\")\n",
    "label_encoder = joblib.load(data_path + \"label_encoder.gz\")\n",
    "scaler = joblib.load(data_path + \"min_max_scaler.gz\")\n",
    "classifier = joblib.load(\"./models/classifier/23-04-2021_11h56m/classifier.gz\")"
   ]
  },
  {
   "cell_type": "code",
   "execution_count": 39,
   "metadata": {},
   "outputs": [
    {
     "name": "stderr",
     "output_type": "stream",
     "text": [
      "[Parallel(n_jobs=4)]: Using backend ThreadingBackend with 4 concurrent workers.\n",
      "[Parallel(n_jobs=4)]: Done  33 tasks      | elapsed:    0.0s\n",
      "[Parallel(n_jobs=4)]: Done 100 out of 100 | elapsed:    0.0s finished\n"
     ]
    },
    {
     "data": {
      "text/plain": [
       "<matplotlib.axes._subplots.AxesSubplot at 0x7f7eec37a400>"
      ]
     },
     "execution_count": 39,
     "metadata": {},
     "output_type": "execute_result"
    },
    {
     "data": {
      "image/png": "[encoded data removed]",
      "text/plain": [
       "<Figure size 432x288 with 2 Axes>"
      ]
     },
     "metadata": {
      "needs_background": "light"
     },
     "output_type": "display_data"
    }
   ],
   "source": [
    "X = test_dataset.X[:100]\n",
    "y = test_dataset.y[:100]\n",
    "X_unscaled = scaler.inverse_transform(X)\n",
    "\n",
    "y_preds = classifier.predict(X_unscaled)\n",
    "\n",
    "# i.e., unscaling is not the probelm\n",
    "plot_confusion_matrix(y, y_preds)"
   ]
  }
 ],
 "metadata": {
  "accelerator": "GPU",
  "colab": {
   "name": "train_classifier.ipynb",
   "provenance": [],
   "toc_visible": true
  },
  "kernelspec": {
   "display_name": "Python 3",
   "language": "python",
   "name": "python3"
  },
  "language_info": {
   "codemirror_mode": {
    "name": "ipython",
    "version": 3
   },
   "file_extension": ".py",
   "mimetype": "text/x-python",
   "name": "python",
   "nbconvert_exporter": "python",
   "pygments_lexer": "ipython3",
   "version": "3.7.3"
  }
 },
 "nbformat": 4,
 "nbformat_minor": 4
}
